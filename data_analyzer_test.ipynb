{
 "cells": [
  {
   "cell_type": "code",
   "execution_count": 1,
   "id": "41d616d1",
   "metadata": {},
   "outputs": [
    {
     "name": "stdout",
     "output_type": "stream",
     "text": [
      "Requirement already satisfied: psycopg2 in c:\\users\\vivek\\anaconda3\\lib\\site-packages (2.9.9)\n"
     ]
    }
   ],
   "source": [
    "!pip3 install psycopg2"
   ]
  },
  {
   "cell_type": "code",
   "execution_count": 2,
   "id": "5e9f4627",
   "metadata": {},
   "outputs": [
    {
     "name": "stderr",
     "output_type": "stream",
     "text": [
      "C:\\Users\\vivek\\anaconda3\\lib\\site-packages\\numpy\\_distributor_init.py:30: UserWarning: loaded more than 1 DLL from .libs:\n",
      "C:\\Users\\vivek\\anaconda3\\lib\\site-packages\\numpy\\.libs\\libopenblas.FB5AE2TYXYH2IJRDKGDGQ3XBKLKTF43H.gfortran-win_amd64.dll\n",
      "C:\\Users\\vivek\\anaconda3\\lib\\site-packages\\numpy\\.libs\\libopenblas.XWYDX2IKJW2NMTWSFYNGFUWKQU3LYTCZ.gfortran-win_amd64.dll\n",
      "  warnings.warn(\"loaded more than 1 DLL from .libs:\"\n"
     ]
    }
   ],
   "source": [
    "import psycopg2\n",
    "import numpy as np"
   ]
  },
  {
   "cell_type": "code",
   "execution_count": 3,
   "id": "1049b4cb",
   "metadata": {},
   "outputs": [],
   "source": [
    "# establishing the connection\n",
    "conn = psycopg2.connect(\n",
    "    database=\"postgres\",\n",
    "    user='postgres',\n",
    "    password='postgrespassword',\n",
    "    host='localhost',\n",
    "    port='5432'\n",
    ")"
   ]
  },
  {
   "cell_type": "code",
   "execution_count": 4,
   "id": "f7c66896",
   "metadata": {},
   "outputs": [],
   "source": [
    "# Creating a cursor object using the cursor() method\n",
    "cursor = conn.cursor()\n",
    "\n",
    "# Check if the volunteer_table_test table exists\n",
    "cursor.execute(\"SELECT EXISTS (SELECT FROM information_schema.tables WHERE table_name = 'volunteer_table_test')\")\n",
    "table_exists = cursor.fetchone()[0]\n",
    "\n",
    "# If the table exists, drop it\n",
    "if table_exists:\n",
    "    cursor.execute(\"DROP TABLE IF EXISTS volunteer_table_test\")\n",
    "    \n",
    "\n",
    "    \n",
    "    \n",
    "# Creating a second cursor object using the cursor() method\n",
    "cursor2 = conn.cursor()\n",
    "\n",
    "# Check if the event_list table exists\n",
    "cursor2.execute(\"SELECT EXISTS (SELECT FROM information_schema.tables WHERE table_name = 'event_list')\")\n",
    "table_exists = cursor2.fetchone()[0]\n",
    "\n",
    "# If the table exists, drop it\n",
    "if table_exists:\n",
    "    cursor2.execute(\"DROP TABLE IF EXISTS event_list\")"
   ]
  },
  {
   "cell_type": "code",
   "execution_count": 5,
   "id": "5238dbf0",
   "metadata": {},
   "outputs": [],
   "source": [
    "# SQL statement to create the table\n",
    "sql = '''CREATE TABLE VOLUNTEER_TABLE_TEST(\n",
    "   EMAIL VARCHAR(255) NOT NULL PRIMARY KEY,\n",
    "   PASSWORD VARCHAR(100) NOT NULL  \n",
    ")'''\n",
    "cursor.execute(sql)\n",
    "\n",
    "\n",
    "\n",
    "\n",
    "\n",
    "# SQL statement to create the table\n",
    "sql2 = '''CREATE TABLE EVENT_LIST(\n",
    "   EVENT_NAME VARCHAR(255) NOT NULL PRIMARY KEY,\n",
    "   DATETIME VARCHAR(100) NOT NULL,\n",
    "   EVENT_DESCRIPTION VARCHAR(1000),\n",
    "   REQUIRED_VOLUNTEER_COUNT INT,\n",
    "   NO_SIGN_UPS INT\n",
    ")'''\n",
    "cursor2.execute(sql2)"
   ]
  },
  {
   "cell_type": "code",
   "execution_count": 6,
   "id": "b752baf3",
   "metadata": {},
   "outputs": [],
   "source": [
    "# Inserting values into the credentials table\n",
    "insert_stmt1 = \"INSERT INTO VOLUNTEER_TABLE_TEST (EMAIL, PASSWORD) VALUES (%s, %s)\"\n",
    "data1 = [('TEST1', 'pw1'),\n",
    "        ('TEST2', 'pw2'),\n",
    "        ]\n",
    "cursor.executemany(insert_stmt1, data1)\n",
    "\n",
    "\n",
    "# Inserting values into the events table\n",
    "insert_stmt2 = \"INSERT INTO EVENT_LIST (EVENT_NAME, DATETIME, EVENT_DESCRIPTION, REQUIRED_VOLUNTEER_COUNT, NO_SIGN_UPS) VALUES (%s, %s, %s, %s, %s)\"\n",
    "data2 = [('EVENT1', 'May 1, 2024, 1 pm', '', 54, 52),\n",
    "        ('EVENT2', 'May 2, 2024, 10 am', \"\", 75, 23),\n",
    "        ]\n",
    "cursor2.executemany(insert_stmt2, data2)"
   ]
  },
  {
   "cell_type": "code",
   "execution_count": 7,
   "id": "2ebe6da2",
   "metadata": {},
   "outputs": [],
   "source": [
    "# Display whole table\n",
    "# cursor.execute(\"SELECT * FROM VOLUNTEER_TABLE_TEST\")\n",
    "# data = cursor.fetchall()[0]\n",
    "# print(type(data),'\\n\\n', data,'\\n\\n', data[0])"
   ]
  },
  {
   "cell_type": "code",
   "execution_count": 8,
   "id": "9c6d9714",
   "metadata": {},
   "outputs": [],
   "source": [
    "cursor.execute(\"SELECT COUNT(EMAIL) FROM VOLUNTEER_TABLE_TEST;\")\n",
    "cursor2.execute(\"SELECT REQUIRED_VOLUNTEER_COUNT, NO_SIGN_UPS FROM EVENT_LIST;\")\n",
    "# SELECT COUNT(column_name) FROM table_name;"
   ]
  },
  {
   "cell_type": "code",
   "execution_count": 9,
   "id": "edadc9d6",
   "metadata": {},
   "outputs": [],
   "source": [
    "volunteer_count = cursor.fetchall()[0][0]\n",
    "avg_sign_up_tuples = cursor2.fetchall()\n",
    "# print(volunteer_count[0][0])\n",
    "# print(data,'\\n\\n', volunteer_count,'\\n\\n')"
   ]
  },
  {
   "cell_type": "code",
   "execution_count": 10,
   "id": "6045be74",
   "metadata": {},
   "outputs": [
    {
     "name": "stdout",
     "output_type": "stream",
     "text": [
      "Count signed up volunteer count is 2\n",
      "\n",
      "\n",
      "The required number and the total numbner of sign ups are [(54, 52), (75, 23)]\n",
      "\n",
      "\n",
      "The sign up percentages for each event are [0.9629629629629629, 0.30666666666666664]\n",
      "\n",
      "\n",
      "The average sign up percentage is 0.6348148148148147\n"
     ]
    }
   ],
   "source": [
    "print(f\"Count signed up volunteer count is {volunteer_count}\")\n",
    "print(f\"\\n\\nThe required number and the total numbner of sign ups are {avg_sign_up_tuples}\")\n",
    "\n",
    "# Calculate the ratios\n",
    "avg_sign_ups = [second_column / first_column for first_column, second_column in avg_sign_up_tuples]\n",
    "\n",
    "print(f\"\\n\\nThe sign up percentages for each event are {avg_sign_ups}\")\n",
    "\n",
    "print(f\"\\n\\nThe average sign up percentage is {np.mean(avg_sign_ups)}\")"
   ]
  },
  {
   "cell_type": "code",
   "execution_count": null,
   "id": "2757f0bc",
   "metadata": {},
   "outputs": [],
   "source": []
  },
  {
   "cell_type": "code",
   "execution_count": null,
   "id": "8879c9db",
   "metadata": {},
   "outputs": [],
   "source": []
  },
  {
   "cell_type": "code",
   "execution_count": null,
   "id": "61c7b931",
   "metadata": {},
   "outputs": [],
   "source": []
  },
  {
   "cell_type": "code",
   "execution_count": null,
   "id": "afed987f",
   "metadata": {},
   "outputs": [],
   "source": []
  },
  {
   "cell_type": "code",
   "execution_count": null,
   "id": "785eaa61",
   "metadata": {},
   "outputs": [],
   "source": []
  },
  {
   "cell_type": "code",
   "execution_count": null,
   "id": "f62592c5",
   "metadata": {},
   "outputs": [],
   "source": []
  },
  {
   "cell_type": "code",
   "execution_count": 11,
   "id": "1a848884",
   "metadata": {},
   "outputs": [],
   "source": [
    "# Commit your changes in the database\n",
    "conn.commit()\n",
    "\n",
    "# Closing the connection\n",
    "conn.close()"
   ]
  }
 ],
 "metadata": {
  "kernelspec": {
   "display_name": "Python 3 (ipykernel)",
   "language": "python",
   "name": "python3"
  },
  "language_info": {
   "codemirror_mode": {
    "name": "ipython",
    "version": 3
   },
   "file_extension": ".py",
   "mimetype": "text/x-python",
   "name": "python",
   "nbconvert_exporter": "python",
   "pygments_lexer": "ipython3",
   "version": "3.9.13"
  }
 },
 "nbformat": 4,
 "nbformat_minor": 5
}
